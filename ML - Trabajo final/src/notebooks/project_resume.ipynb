{
 "cells": [
  {
   "attachments": {},
   "cell_type": "markdown",
   "metadata": {},
   "source": [
    "# Resumen del proyecto"
   ]
  },
  {
   "attachments": {},
   "cell_type": "markdown",
   "metadata": {},
   "source": [
    "## Justificación"
   ]
  },
  {
   "attachments": {},
   "cell_type": "markdown",
   "metadata": {},
   "source": [
    "En los últimos años se vio aumentado el porcentaje de estudios realizados de forma online, derivado principalmente de la pandemia causada por el COVID-19. El hecho de que haya sucedido de forma tan drástica y con poca anticipación, significó que muchos estudiantes se vieran forzados a adoptar esta modalidad sin estar preparados de la mejor manera. \n",
    "\n",
    "Sumado a esto, existen determinadas variables que pueden hacer más o menos fácil la adaptación al estudio remoto, las cuales pueden permitir predecir el nivel de adaptabilidad del estudiante previo al inicio del curso, y en función de eso tomar medidas para mejorar dicha adaptabilidad. Esa predicción se realizará a través del modelo creado en este trabajo, el cual buscará clasificar el nivel de adaptabilidad del estudiante entre “High”, “Moderate” o “Low”.\n"
   ]
  },
  {
   "attachments": {},
   "cell_type": "markdown",
   "metadata": {},
   "source": [
    "## Dataset a utilizar; análisis y limpieza"
   ]
  },
  {
   "attachments": {},
   "cell_type": "markdown",
   "metadata": {},
   "source": [
    "Se trabajará sobre el dataset \"students_adaptability_level_online_education.csv\". Se realiza un análisis del mismo, pudiendo observar que ya se encuentra bastante limpio y ordenado y que no posee nulos. \n",
    "\n",
    "Acto seguido se analiza la variable target, la cual puede adoptar tres posibles valores: \"Low\", \"Moderate\" or \"High\". La clase \"Moderate\" es la que presenta mayor cantidad de registros, seguida por la clase \"Low\" y por último la clase \"High\".\n",
    "\n",
    "Aplicamos la función relation_target, la cual establece y grafica la relación de cada variable con la variable target, con el objetivo de observar algún patrón en este sentido. Luego de aplicada dicha función, se puede observar que ningun estudiante con un \"Network type\" de 2G logra un nivel de adaptación alto, lo cual es información muy relevante. A su vez, lo mimso sucede con estudiantes con edad entre 1 y 5 años.\n",
    "\n",
    "Luego de analizar todas las variables, se consideró que ninguna columna debe ser eliminada. Las variables \"Location\" y \"Self Lms\" fueron analizadas con mayor detenimiento, pero ambas aportan información valiosa; la primera refiere a si el estudiante reside dentro de la ciudad o en las afueras, mientras que la segunda hace referencia a si el centro de estudio en cuestión tiene un \"Learning Management System\" (LMS) propio. El LMS es una aplicación de software o tecnología basada en la web que se utiliza para planificar, implementar y evaluar un proceso de aprendizaje específico."
   ]
  },
  {
   "attachments": {},
   "cell_type": "markdown",
   "metadata": {},
   "source": [
    "## Feature engineering"
   ]
  },
  {
   "attachments": {},
   "cell_type": "markdown",
   "metadata": {},
   "source": [
    "Se comienzan a transformar las variables a numéricas para poder incluirlas en el modelo a través del método de pandas pd.get_dummies en algunos casos, y Label Encoding en otros. Por último, se reemplaza la variable target tambié por elementos numéricos; \"Low\" por 1, \"Moderate\" por 2 y \"High\" por 3. "
   ]
  },
  {
   "attachments": {},
   "cell_type": "markdown",
   "metadata": {},
   "source": [
    "## Modelos"
   ]
  },
  {
   "attachments": {},
   "cell_type": "markdown",
   "metadata": {},
   "source": [
    "Se aplica la función regression_multiclass, la cual se utiliza para aplicar todos los modelos de clasificación al dataframe luego de realizado el Feature engineer (con todos los valores de los modelos que vienen por defecto). Asimismo, la función incluye la aplicación de la métrica matriz de confusión y cohen_kappa_score, ya que son las métricas válidas para los problemas de clasificación multiclase.\n",
    "\n",
    "Luego de aplicada la función, se ve que los modelos SVM y Logistic Regression son los que presentan peores resultados. Esto se explica porque dichos modelos fueron diseñados para clasificaciones binarias, por lo que no funcionan de forma correcta para clasificaciones multiclase.\n",
    "\n",
    "Con los hiperparámetros dados por defecto, los modelos que predicen mejor son el Decission Tree y el Random Forrest, de acuerdo a la confusion matrix y el Cohen Kappa Score. Basado en esto, se utlizará GridSearch para la optimización de los hiperparámetros para dichos modelo, con el fin de mejorar las métricas."
   ]
  },
  {
   "attachments": {},
   "cell_type": "markdown",
   "metadata": {},
   "source": [
    "## Optimización de hiperparámetros"
   ]
  },
  {
   "attachments": {},
   "cell_type": "markdown",
   "metadata": {},
   "source": [
    "Se comienza a trabajar con el Random Forrest. Se crea un diccionario con los hiperparámetros a modificar, y se aplica el GridSearch para ese modelo y ese diccionario. Se entrena el modelo ajustado, y se vuelve a sacar la confussion matrix y el cohen_kappa_score para observar si los resultados mejoran o no. Luego se aplica el mismo procedimiento para el Decision Tree, y se comparan los resultados con los obtenidos previo a realizar el ajuste con el GridSearch. \n",
    "\n",
    "Los resultados indican que el modelo que predice mejor es el Decission Tree luego de la la optimización de parámetros \n",
    "con el GridSearch. Se presta especial atención a la clasificación de la clase 3, referente a los estudiantes que tienen un nivel \n",
    "de adaptación \"High\". Esto es así porque si se clasifica un estudiante con un alto nivel de adaptación, se le darán menos\n",
    "facilidades para sus estudios, lo cual puede significar una formación muy pobre o incluso el abandono del estudio de \n",
    "esa persona en cuestión. "
   ]
  },
  {
   "attachments": {},
   "cell_type": "markdown",
   "metadata": {},
   "source": [
    "## Posibles mejoras extras"
   ]
  },
  {
   "attachments": {},
   "cell_type": "markdown",
   "metadata": {},
   "source": [
    "Se analiza la importancia relativa de cada columna sobre la variable target con el método feature_importances, para determinar si sería positivo eliminar alguna de las variables para hacer el modelo más eficiente. La única columna que tiene valor 0 es \"Tab\", por lo que se evalúa eliminarla y ver los resultados obtenidos. Luego de realizada esa prueba se observa que la predicción pierde precisión, por lo que no se elimina dicha columna del dataset original. "
   ]
  },
  {
   "attachments": {},
   "cell_type": "markdown",
   "metadata": {},
   "source": [
    "## OneVsRest"
   ]
  },
  {
   "attachments": {},
   "cell_type": "markdown",
   "metadata": {},
   "source": [
    "En la búsqueda de seguir mejorando las métricas del modelo, se aplica el método OneVsRestClassifier sobre el modelo ajustado con el GridSearch. Luego de entrenado y de predecir, se saca el Classification Report para ver la precision, recall y f1-score de la predicción de cada clase. A su vez, se aplica el método de predict_proba, para analizar qué clase de la variable target presenta probabilidades menos determinantes en general.\n",
    "\n",
    "Luego de este análisis, se llega a la conclusión de que la clase que se predice de forma menos segura es la clase 1. Por otro lado, de acuerdo al classification_report la clase con mejores métricas es la 2, por lo que se agruparán las clases 1 y 3 y se volverá a entrenar el modelo. Una vez identificados todos los registros de la clase 2, se eliminarán del dataset y se volverá a entrenar y predecir con las clases 1 y 3 únicamente. \n",
    "\n",
    "Al transformarse en un modelo de clasificación binario luego de estas agrupaciones, se pueden utilizar el resto de las métricas de clasificación. Es por esto que se aplica la función regression, la cual es muy similar a la función regression_multiclass con la diferencia de que se aplican el resto de las métricas. Igualmente, los modelos que siguen otorgando mejores métricas son el Decision Tree y el Random Forrest.\n",
    "\n",
    "Luego de realizado todo el procedimiento, se obtienen los siguientes resultados:\n",
    "\n",
    "* Luego de agrupar las clases 1 y 3:\n",
    "\n",
    "    - The accuracy score is 0.9060773480662984\n",
    "    - The recall score is 0.9096385542168675\n",
    "    - The precision score is 0.888235294117647\n",
    "    - The f1_score is 0.8988095238095238\n",
    "\n",
    "* Luego de eliminar la clase 2, y predecir únicamente 1 y 3:\n",
    "\n",
    "    - The accuracy score is 0.9885057471264368\n",
    "    - The recall score is 0.9932432432432432\n",
    "    - The precision score is 0.9932432432432432\n",
    "    - The f1_score is 0.9932432432432432"
   ]
  },
  {
   "attachments": {},
   "cell_type": "markdown",
   "metadata": {},
   "source": [
    "## Guardado del modelo y aplicación"
   ]
  },
  {
   "attachments": {},
   "cell_type": "markdown",
   "metadata": {},
   "source": [
    "Por último, se guarda el modelo en un archivo .pkl, y se utiliza Streamlit para desarrollar una página web que incluye lo siguiente:\n",
    "\n",
    "* Página 1: Título y autor del proyecto\n",
    "\n",
    "* Página 2: Selección de los valores de las variables y predicción del nivel de adaptabilidad del estudiante\n",
    "\n",
    "* Página 3: Tips para mejorar las condiciones de los estudiantes remotos"
   ]
  }
 ],
 "metadata": {
  "language_info": {
   "name": "python"
  },
  "orig_nbformat": 4
 },
 "nbformat": 4,
 "nbformat_minor": 2
}
